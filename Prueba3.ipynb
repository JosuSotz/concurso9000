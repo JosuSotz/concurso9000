{
 "cells": [
  {
   "cell_type": "markdown",
   "metadata": {},
   "source": [
    "# Super Duper Concurso 9000\n",
    "##  Josué Soto"
   ]
  },
  {
   "cell_type": "code",
   "execution_count": 1,
   "metadata": {},
   "outputs": [],
   "source": [
    "import fastai.basics as fai\n",
    "import torch\n",
    "import fastai.vision as fv\n",
    "import torch.nn as nn\n",
    "import torch.nn.functional as F\n",
    "from pathlib import Path\n",
    "import gc\n",
    "import matplotlib.pyplot as plt\n",
    "\n",
    "import torchvision as tv\n",
    "\n",
    "import numpy as np\n",
    "from functools import partial"
   ]
  },
  {
   "cell_type": "code",
   "execution_count": 2,
   "metadata": {},
   "outputs": [],
   "source": [
    "def load_src(folder):\n",
    "    return (fv.ImageList\n",
    "              .from_folder(folder)\n",
    "              .split_by_folder()\n",
    "              .label_from_folder())    \n",
    "\n",
    "def load_data(src, img_size, batch_size, fine_tuning = False):\n",
    "    tfms = list(fv.get_transforms())\n",
    "    if fine_tuning: tfms[0] = tfms[1]\n",
    "    return (src.transform(tfms,size=img_size)\n",
    "               .databunch(bs=batch_size))"
   ]
  },
  {
   "cell_type": "code",
   "execution_count": 3,
   "metadata": {},
   "outputs": [],
   "source": [
    "path = Path('imagenette')"
   ]
  },
  {
   "cell_type": "code",
   "execution_count": 4,
   "metadata": {},
   "outputs": [],
   "source": [
    "src = load_src(path)"
   ]
  },
  {
   "cell_type": "code",
   "execution_count": 5,
   "metadata": {},
   "outputs": [
    {
     "data": {
      "text/plain": [
       "20"
      ]
     },
     "execution_count": 5,
     "metadata": {},
     "output_type": "execute_result"
    }
   ],
   "source": [
    "src.c"
   ]
  },
  {
   "cell_type": "code",
   "execution_count": 6,
   "metadata": {},
   "outputs": [],
   "source": [
    "def num_params(model):\n",
    "    total=0\n",
    "    for p in model.parameters():\n",
    "        num=1\n",
    "        for s in list(p.size()):\n",
    "            num *= s\n",
    "        total += num\n",
    "    return total"
   ]
  },
  {
   "cell_type": "code",
   "execution_count": 7,
   "metadata": {},
   "outputs": [],
   "source": [
    "def identity(x):\n",
    "    return x"
   ]
  },
  {
   "cell_type": "code",
   "execution_count": 8,
   "metadata": {},
   "outputs": [],
   "source": [
    "class ResBlock(nn.Module):\n",
    "    def __init__(self, nf, bottle=None, s=1, pre_activation=True, g=1):\n",
    "        super().__init__()\n",
    "        \n",
    "        if bottle == None: bottle = nf\n",
    "        \n",
    "        self.act = nn.ReLU(inplace=True) if pre_activation else identity\n",
    "        self.pre_bn = nn.BatchNorm2d(nf)\n",
    "        \n",
    "        BN = nn.BatchNorm2d(nf)\n",
    "        nn.init.constant_(BN.weight, 0.)\n",
    "        \n",
    "        k = 3 if s == 1 else 4\n",
    "        \n",
    "        self.residual = nn.Sequential(nn.Conv2d(nf,bottle,kernel_size=1,stride=1,padding=0),\n",
    "                                      nn.ReLU(),\n",
    "                                      nn.BatchNorm2d(bottle),\n",
    "                                      nn.Conv2d(bottle,nf,kernel_size=k,stride=s,padding=1,groups=g,bias=False),\n",
    "                                      BN)\n",
    "        self.pool = identity if s==1 else nn.AvgPool2d(2)\n",
    "        \n",
    "    def forward(self, x):\n",
    "        y = self.pre_bn(self.act(x))\n",
    "        return self.pool(y) + self.residual(y)"
   ]
  },
  {
   "cell_type": "code",
   "execution_count": 47,
   "metadata": {},
   "outputs": [],
   "source": [
    "model = nn.Sequential(\n",
    "    nn.BatchNorm2d(3),\n",
    "    nn.Conv2d(3,32,kernel_size=4,padding=1,stride=2),\n",
    "    nn.MaxPool2d(2),\n",
    "    nn.ReLU(),\n",
    "    nn.BatchNorm2d(32),\n",
    "    ResBlock(32),\n",
    "    nn.Conv2d(32,64,kernel_size=4,padding=1,stride=2),\n",
    "    nn.ReLU(),\n",
    "    nn.BatchNorm2d(64),\n",
    "    ResBlock(64),\n",
    "    nn.Conv2d(64,128,kernel_size=4,padding=1,stride=2),\n",
    "    nn.ReLU(),\n",
    "    nn.BatchNorm2d(128),\n",
    "    ResBlock(128),\n",
    "    nn.Conv2d(128,256,kernel_size=4,padding=1,stride=2),\n",
    "    nn.ReLU(),\n",
    "    nn.BatchNorm2d(256),\n",
    "    ResBlock(256),\n",
    "    nn.Conv2d(256,512,kernel_size=4,padding=1,stride=2),\n",
    "    nn.AdaptiveAvgPool2d(1),\n",
    "    fv.Flatten(),\n",
    "    nn.ReLU(),\n",
    "    nn.BatchNorm1d(512),\n",
    "    nn.Linear(512,src.c)\n",
    ")"
   ]
  },
  {
   "cell_type": "code",
   "execution_count": 48,
   "metadata": {},
   "outputs": [
    {
     "data": {
      "text/plain": [
       "3673818"
      ]
     },
     "execution_count": 48,
     "metadata": {},
     "output_type": "execute_result"
    }
   ],
   "source": [
    "num_params(model)"
   ]
  },
  {
   "cell_type": "code",
   "execution_count": 49,
   "metadata": {},
   "outputs": [],
   "source": [
    "data = load_data(src, img_size=224, batch_size=64)"
   ]
  },
  {
   "cell_type": "code",
   "execution_count": 50,
   "metadata": {},
   "outputs": [],
   "source": [
    "from xranger import XRanger"
   ]
  },
  {
   "cell_type": "code",
   "execution_count": 51,
   "metadata": {},
   "outputs": [],
   "source": [
    "opt = partial(XRanger, betas=(0.93,0.99))"
   ]
  },
  {
   "cell_type": "code",
   "execution_count": 52,
   "metadata": {},
   "outputs": [],
   "source": [
    "learn = fv.Learner(data,model,wd=0.0,\n",
    "                   opt_func=opt,\n",
    "                   true_wd=False,bn_wd=False,\n",
    "                   metrics=[fv.accuracy])"
   ]
  },
  {
   "cell_type": "code",
   "execution_count": 53,
   "metadata": {},
   "outputs": [
    {
     "data": {
      "text/html": [],
      "text/plain": [
       "<IPython.core.display.HTML object>"
      ]
     },
     "metadata": {},
     "output_type": "display_data"
    },
    {
     "name": "stdout",
     "output_type": "stream",
     "text": [
      "LR Finder is complete, type {learner_name}.recorder.plot() to see the graph.\n"
     ]
    },
    {
     "data": {
      "image/png": "[encoded data removed]",
      "text/plain": [
       "<Figure size 432x288 with 1 Axes>"
      ]
     },
     "metadata": {
      "needs_background": "light"
     },
     "output_type": "display_data"
    }
   ],
   "source": [
    "learn.lr_find(); learn.recorder.plot()"
   ]
  },
  {
   "cell_type": "code",
   "execution_count": 54,
   "metadata": {},
   "outputs": [
    {
     "data": {
      "text/html": [
       "<table border=\"1\" class=\"dataframe\">\n",
       "  <thead>\n",
       "    <tr style=\"text-align: left;\">\n",
       "      <th>epoch</th>\n",
       "      <th>train_loss</th>\n",
       "      <th>valid_loss</th>\n",
       "      <th>accuracy</th>\n",
       "      <th>time</th>\n",
       "    </tr>\n",
       "  </thead>\n",
       "  <tbody>\n",
       "    <tr>\n",
       "      <td>0</td>\n",
       "      <td>2.421359</td>\n",
       "      <td>2.304898</td>\n",
       "      <td>0.293000</td>\n",
       "      <td>01:46</td>\n",
       "    </tr>\n",
       "    <tr>\n",
       "      <td>1</td>\n",
       "      <td>2.102030</td>\n",
       "      <td>1.896405</td>\n",
       "      <td>0.404000</td>\n",
       "      <td>01:45</td>\n",
       "    </tr>\n",
       "    <tr>\n",
       "      <td>2</td>\n",
       "      <td>1.849516</td>\n",
       "      <td>1.653121</td>\n",
       "      <td>0.468000</td>\n",
       "      <td>01:46</td>\n",
       "    </tr>\n",
       "    <tr>\n",
       "      <td>3</td>\n",
       "      <td>1.673791</td>\n",
       "      <td>1.471106</td>\n",
       "      <td>0.527000</td>\n",
       "      <td>01:45</td>\n",
       "    </tr>\n",
       "    <tr>\n",
       "      <td>4</td>\n",
       "      <td>1.522223</td>\n",
       "      <td>1.309242</td>\n",
       "      <td>0.594000</td>\n",
       "      <td>01:46</td>\n",
       "    </tr>\n",
       "    <tr>\n",
       "      <td>5</td>\n",
       "      <td>1.372978</td>\n",
       "      <td>1.197508</td>\n",
       "      <td>0.626000</td>\n",
       "      <td>01:45</td>\n",
       "    </tr>\n",
       "    <tr>\n",
       "      <td>6</td>\n",
       "      <td>1.224932</td>\n",
       "      <td>1.031522</td>\n",
       "      <td>0.679000</td>\n",
       "      <td>01:45</td>\n",
       "    </tr>\n",
       "    <tr>\n",
       "      <td>7</td>\n",
       "      <td>1.125244</td>\n",
       "      <td>0.962198</td>\n",
       "      <td>0.684000</td>\n",
       "      <td>01:44</td>\n",
       "    </tr>\n",
       "    <tr>\n",
       "      <td>8</td>\n",
       "      <td>0.977616</td>\n",
       "      <td>0.891605</td>\n",
       "      <td>0.699000</td>\n",
       "      <td>01:45</td>\n",
       "    </tr>\n",
       "    <tr>\n",
       "      <td>9</td>\n",
       "      <td>0.928170</td>\n",
       "      <td>0.851917</td>\n",
       "      <td>0.725000</td>\n",
       "      <td>01:44</td>\n",
       "    </tr>\n",
       "    <tr>\n",
       "      <td>10</td>\n",
       "      <td>0.834015</td>\n",
       "      <td>0.813551</td>\n",
       "      <td>0.734000</td>\n",
       "      <td>01:42</td>\n",
       "    </tr>\n",
       "    <tr>\n",
       "      <td>11</td>\n",
       "      <td>0.777745</td>\n",
       "      <td>0.756203</td>\n",
       "      <td>0.746000</td>\n",
       "      <td>01:44</td>\n",
       "    </tr>\n",
       "    <tr>\n",
       "      <td>12</td>\n",
       "      <td>0.708268</td>\n",
       "      <td>0.747406</td>\n",
       "      <td>0.760000</td>\n",
       "      <td>01:45</td>\n",
       "    </tr>\n",
       "    <tr>\n",
       "      <td>13</td>\n",
       "      <td>0.651650</td>\n",
       "      <td>0.738509</td>\n",
       "      <td>0.766000</td>\n",
       "      <td>01:44</td>\n",
       "    </tr>\n",
       "    <tr>\n",
       "      <td>14</td>\n",
       "      <td>0.600764</td>\n",
       "      <td>0.677812</td>\n",
       "      <td>0.786000</td>\n",
       "      <td>01:44</td>\n",
       "    </tr>\n",
       "    <tr>\n",
       "      <td>15</td>\n",
       "      <td>0.560096</td>\n",
       "      <td>0.687266</td>\n",
       "      <td>0.776000</td>\n",
       "      <td>01:43</td>\n",
       "    </tr>\n",
       "    <tr>\n",
       "      <td>16</td>\n",
       "      <td>0.525543</td>\n",
       "      <td>0.664652</td>\n",
       "      <td>0.780000</td>\n",
       "      <td>01:44</td>\n",
       "    </tr>\n",
       "    <tr>\n",
       "      <td>17</td>\n",
       "      <td>0.536289</td>\n",
       "      <td>0.661981</td>\n",
       "      <td>0.784000</td>\n",
       "      <td>01:44</td>\n",
       "    </tr>\n",
       "    <tr>\n",
       "      <td>18</td>\n",
       "      <td>0.498444</td>\n",
       "      <td>0.655991</td>\n",
       "      <td>0.779000</td>\n",
       "      <td>01:46</td>\n",
       "    </tr>\n",
       "    <tr>\n",
       "      <td>19</td>\n",
       "      <td>0.480412</td>\n",
       "      <td>0.655141</td>\n",
       "      <td>0.781000</td>\n",
       "      <td>01:43</td>\n",
       "    </tr>\n",
       "  </tbody>\n",
       "</table>"
      ],
      "text/plain": [
       "<IPython.core.display.HTML object>"
      ]
     },
     "metadata": {},
     "output_type": "display_data"
    }
   ],
   "source": [
    "learn.fit_one_cycle(20,5e-4)"
   ]
  },
  {
   "cell_type": "code",
   "execution_count": 56,
   "metadata": {},
   "outputs": [],
   "source": [
    "img = torch.rand(64,3,224,224).cuda()"
   ]
  },
  {
   "cell_type": "code",
   "execution_count": 57,
   "metadata": {},
   "outputs": [
    {
     "name": "stdout",
     "output_type": "stream",
     "text": [
      "12.1 ms ± 1.82 µs per loop (mean ± std. dev. of 7 runs, 100 loops each)\n"
     ]
    }
   ],
   "source": [
    "%%timeit\n",
    "torch.cuda.synchronize()\n",
    "model(img)\n",
    "torch.cuda.synchronize()"
   ]
  },
  {
   "cell_type": "code",
   "execution_count": 58,
   "metadata": {},
   "outputs": [],
   "source": [
    "r34 = fv.models.resnet34(pretrained=False).cuda()"
   ]
  },
  {
   "cell_type": "code",
   "execution_count": 59,
   "metadata": {},
   "outputs": [
    {
     "name": "stdout",
     "output_type": "stream",
     "text": [
      "50.2 ms ± 23.9 µs per loop (mean ± std. dev. of 7 runs, 10 loops each)\n"
     ]
    }
   ],
   "source": [
    "%%timeit\n",
    "torch.cuda.synchronize()\n",
    "r34(img)\n",
    "torch.cuda.synchronize()"
   ]
  },
  {
   "cell_type": "code",
   "execution_count": 60,
   "metadata": {},
   "outputs": [
    {
     "data": {
      "text/plain": [
       "21797672"
      ]
     },
     "execution_count": 60,
     "metadata": {},
     "output_type": "execute_result"
    }
   ],
   "source": [
    "num_params(r34)"
   ]
  }
 ],
 "metadata": {
  "kernelspec": {
   "display_name": "Python 3",
   "language": "python",
   "name": "python3"
  },
  "language_info": {
   "codemirror_mode": {
    "name": "ipython",
    "version": 3
   },
   "file_extension": ".py",
   "mimetype": "text/x-python",
   "name": "python",
   "nbconvert_exporter": "python",
   "pygments_lexer": "ipython3",
   "version": "3.7.3"
  }
 },
 "nbformat": 4,
 "nbformat_minor": 2
}
